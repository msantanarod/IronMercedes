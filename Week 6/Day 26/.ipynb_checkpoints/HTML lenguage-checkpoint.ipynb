{
 "cells": [
  {
   "cell_type": "markdown",
   "id": "ece0b972",
   "metadata": {},
   "source": [
    "<html>\n",
    "    <head>\n",
    "        <title>Page Title</title>\n",
    "    </head>\n",
    "    <body>\n",
    "        <h1>My First Heading</h1>\n",
    "        <p class=”final”>My first paragraph.</p>\n",
    "        <p class=”final”>My second paragraph has a <b>bold<b> word!</p>\n",
    "            <a href=\"https://www.gnod.com\"> gnod web site </a>\n",
    "<p>Blabla bla </p>\n",
    "    </body>\n",
    "</html>"
   ]
  },
  {
   "cell_type": "markdown",
   "id": "3810626a",
   "metadata": {},
   "source": []
  },
  {
   "cell_type": "markdown",
   "id": "01793061",
   "metadata": {},
   "source": [
    "<span style=\"color:red\">word</span>\n"
   ]
  },
  {
   "cell_type": "markdown",
   "id": "8d03e1a8",
   "metadata": {},
   "source": [
    "# Web scraping Notebook"
   ]
  },
  {
   "cell_type": "code",
   "execution_count": null,
   "id": "a01c3cee",
   "metadata": {},
   "outputs": [],
   "source": []
  }
 ],
 "metadata": {
  "kernelspec": {
   "display_name": "Python 3 (ipykernel)",
   "language": "python",
   "name": "python3"
  },
  "language_info": {
   "codemirror_mode": {
    "name": "ipython",
    "version": 3
   },
   "file_extension": ".py",
   "mimetype": "text/x-python",
   "name": "python",
   "nbconvert_exporter": "python",
   "pygments_lexer": "ipython3",
   "version": "3.9.6"
  },
  "toc": {
   "base_numbering": 1,
   "nav_menu": {},
   "number_sections": true,
   "sideBar": true,
   "skip_h1_title": false,
   "title_cell": "Table of Contents",
   "title_sidebar": "Contents",
   "toc_cell": false,
   "toc_position": {},
   "toc_section_display": true,
   "toc_window_display": false
  }
 },
 "nbformat": 4,
 "nbformat_minor": 5
}
