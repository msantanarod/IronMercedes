{
 "cells": [
  {
   "cell_type": "markdown",
   "id": "1f160d68",
   "metadata": {},
   "source": [
    "# MY DREAM HOLIDAY"
   ]
  },
  {
   "cell_type": "markdown",
   "id": "4bda6d88",
   "metadata": {},
   "source": [
    "This notebook will help me to choose my next holiday destination. I already know that I want to go Gran Canaria, in the Canary Island, but I have not choose yet if I want to go to the beach, the mountain o visit the city."
   ]
  },
  {
   "cell_type": "code",
   "execution_count": 1,
   "id": "67dff651",
   "metadata": {},
   "outputs": [
    {
     "name": "stdout",
     "output_type": "stream",
     "text": [
      "hello, what's your name? Mercedes\n",
      "Hi Mercedes\n"
     ]
    }
   ],
   "source": [
    "#Use function input to choose the person name. \n",
    "nombre=input(\"hello, what's your name? \")\n",
    "print(\"Hi\",nombre)"
   ]
  },
  {
   "cell_type": "code",
   "execution_count": 2,
   "id": "4d96b723",
   "metadata": {},
   "outputs": [
    {
     "name": "stdout",
     "output_type": "stream",
     "text": [
      "would you like to upload your profile picture? (yes, no)? yes\n",
      "thank you, please update your picture\n"
     ]
    }
   ],
   "source": [
    "#we will ask for a profile picture to the person\n",
    "\n",
    "choice=\"yes\"\n",
    "picture=input(\"would you like to upload your profile picture? (yes, no)? \")\n",
    "if picture in choice:\n",
    "    print(\"thank you, please update your picture\")\n",
    "else:\n",
    "    print(\"thank you for informing us, please go to the Holiday preference section\")  \n"
   ]
  },
  {
   "cell_type": "markdown",
   "id": "50e340a3",
   "metadata": {},
   "source": [
    "## Please update your picture"
   ]
  },
  {
   "cell_type": "markdown",
   "id": "6977b227",
   "metadata": {},
   "source": [
    "picture=![Merche](pictures/Merche.jpg)"
   ]
  },
  {
   "cell_type": "markdown",
   "id": "9f5e86f3",
   "metadata": {},
   "source": [
    "\n",
    "\n",
    "\n",
    "\n",
    "# Holiday preferences "
   ]
  },
  {
   "cell_type": "markdown",
   "id": "d75ebc53",
   "metadata": {},
   "source": [
    "in this section I will discover what I would like to do in **Gran Canaria**. Despite being an inland, Gran Canaria offers a bunch of different activities such as surfing, hiking, sightseeing... just to mention a few. "
   ]
  },
  {
   "cell_type": "code",
   "execution_count": 3,
   "id": "cf497f69",
   "metadata": {},
   "outputs": [],
   "source": [
    "from PIL import Image"
   ]
  },
  {
   "cell_type": "markdown",
   "id": "4b916ff6",
   "metadata": {},
   "source": [
    "beach=\"pictures/Maspalomas.jpg\"\n",
    "mountain=\"pictures/mountain.jpg\"\n",
    "city=\"pictures/city.jpg\""
   ]
  },
  {
   "cell_type": "code",
   "execution_count": 10,
   "id": "93f11239",
   "metadata": {},
   "outputs": [],
   "source": [
    "options=[\"beach\",\"mountain\",\"city\"]\n"
   ]
  },
  {
   "cell_type": "code",
   "execution_count": 11,
   "id": "1c8b4f20",
   "metadata": {},
   "outputs": [
    {
     "name": "stdout",
     "output_type": "stream",
     "text": [
      "Enter enter an option (beach,mountain,city): beach\n"
     ]
    }
   ],
   "source": [
    "holiday=input(\"Enter enter an option (beach,mountain,city): \")        \n",
    "        "
   ]
  },
  {
   "cell_type": "code",
   "execution_count": 12,
   "id": "e65a4548",
   "metadata": {},
   "outputs": [
    {
     "name": "stdout",
     "output_type": "stream",
     "text": [
      "pictures/Maspalomas.jpg\n"
     ]
    }
   ],
   "source": [
    "if holiday==\"beach\":\n",
    "    print(beach)\n",
    "elif holiday==\"mountain\":\n",
    "    print(mountain)\n",
    "else:\n",
    "    print(city)"
   ]
  },
  {
   "cell_type": "markdown",
   "id": "e13e25f2",
   "metadata": {},
   "source": [
    "![Barcelona](Barcolona.jpg)"
   ]
  },
  {
   "cell_type": "code",
   "execution_count": 13,
   "id": "3c71a446",
   "metadata": {},
   "outputs": [],
   "source": [
    "# in Gran Canaria, I can do many things"
   ]
  },
  {
   "cell_type": "markdown",
   "id": "dd0ec1e8",
   "metadata": {},
   "source": [
    "+ go to the beach\n",
    "+ sightseeing \n",
    "+ eats tapas"
   ]
  },
  {
   "cell_type": "code",
   "execution_count": null,
   "id": "8509e9ff",
   "metadata": {},
   "outputs": [],
   "source": [
    "# text in bold"
   ]
  },
  {
   "cell_type": "markdown",
   "id": "c7ac5af2",
   "metadata": {},
   "source": [
    " **go to the beach,\n",
    "sightseeing,\n",
    "eats tapas**"
   ]
  },
  {
   "cell_type": "code",
   "execution_count": 14,
   "id": "83626b24",
   "metadata": {},
   "outputs": [],
   "source": [
    "# let's see a video about Gran Canaria\n"
   ]
  },
  {
   "cell_type": "markdown",
   "id": "f64b812b",
   "metadata": {},
   "source": [
    "[Gran_Canaria](https://www.youtube.com/watch?v=T0X_0-HV7qQ)"
   ]
  },
  {
   "cell_type": "code",
   "execution_count": 18,
   "id": "ed6372e3",
   "metadata": {},
   "outputs": [],
   "source": [
    "# for this notebook I have used the information form the Markdown Cheat Sheet \n"
   ]
  },
  {
   "cell_type": "markdown",
   "id": "63b4a7d3",
   "metadata": {},
   "source": [
    "[Markdown_Cheat_Sheet](https://www.markdownguide.org/cheat-sheet/)"
   ]
  },
  {
   "cell_type": "markdown",
   "id": "ffdde134",
   "metadata": {},
   "source": []
  },
  {
   "cell_type": "code",
   "execution_count": null,
   "id": "bed3a739",
   "metadata": {},
   "outputs": [],
   "source": []
  }
 ],
 "metadata": {
  "kernelspec": {
   "display_name": "Python 3 (ipykernel)",
   "language": "python",
   "name": "python3"
  },
  "language_info": {
   "codemirror_mode": {
    "name": "ipython",
    "version": 3
   },
   "file_extension": ".py",
   "mimetype": "text/x-python",
   "name": "python",
   "nbconvert_exporter": "python",
   "pygments_lexer": "ipython3",
   "version": "3.9.6"
  }
 },
 "nbformat": 4,
 "nbformat_minor": 5
}
