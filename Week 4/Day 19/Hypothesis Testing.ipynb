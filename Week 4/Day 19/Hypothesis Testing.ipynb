{
 "cells": [
  {
   "cell_type": "markdown",
   "id": "ab9b5c3b",
   "metadata": {},
   "source": [
    "# Hypothesis Testing"
   ]
  },
  {
   "cell_type": "code",
   "execution_count": 1,
   "id": "36af80d3",
   "metadata": {},
   "outputs": [],
   "source": [
    "from scipy.stats import t\n",
    "import numpy as np\n",
    "import pandas as pd\n",
    "import matplotlib.pyplot as plt\n",
    "import numpy as np\n",
    "import scipy.stats as stats\n",
    "import math"
   ]
  },
  {
   "cell_type": "markdown",
   "id": "ad8abcfd",
   "metadata": {},
   "source": [
    "\n",
    "**1. It is assumed that the mean systolic blood pressure is μ = 120 mm Hg. \n",
    "In the Honolulu Heart Study, a sample of n = 100 people had an average systolic blood pressure of 130.1 mm Hg \n",
    "with a standard deviation of 21.21 mm Hg. Is the group significantly different \n",
    "(with respect to systolic blood pressure!) from the regular population?**\n",
    "\n",
    "**a) Set up the hypothesis test.**\n"
   ]
  },
  {
   "cell_type": "markdown",
   "id": "cda89f83",
   "metadata": {},
   "source": [
    "main details\n",
    "population: μ=120 mmHg, no standard deviation #as we do not have the population st.deviation,\n",
    "\n",
    "                                              # we have to use t-statistics\n",
    "\n",
    "sample size=100\n",
    "sample mean=130.1mmHg, st.deviation=21.21mmHG\n"
   ]
  },
  {
   "cell_type": "markdown",
   "id": "8a0a47c0",
   "metadata": {},
   "source": [
    "Ho: μ=120\n",
    "Hi: μ!=120\n",
    "\n"
   ]
  },
  {
   "cell_type": "markdown",
   "id": "bccda134",
   "metadata": {},
   "source": [
    "**b)Write down all the steps followed for setting up the test.**\n"
   ]
  },
  {
   "cell_type": "markdown",
   "id": "0f524e60",
   "metadata": {},
   "source": [
    "1: We have to define H0 and Ha\n",
    "2: We need to calculate the t-statistic value\n",
    "3: we need to check the T-statistic with 99 degrees of freedom and area of 0.95\n",
    "4: We have to compare the values of t-statistic and t-value and decide if we accept H0\n",
    "\n"
   ]
  },
  {
   "cell_type": "markdown",
   "id": "66c1102b",
   "metadata": {},
   "source": [
    "**c)Calculate the test statistic by hand and also code it in Python. It should be 4.76190. \n",
    "What decision can you make based on this calculated value?**"
   ]
  },
  {
   "cell_type": "code",
   "execution_count": 2,
   "id": "68345d52",
   "metadata": {},
   "outputs": [],
   "source": [
    "# by hand\n",
    "#t=(x̄-μ)/(σ(muestra)/√n)->t=(130.1-120)/(21.21/√100)-> t=4.76190\n",
    "# 2 tail, t-distribution with (n-1)=99 degrees of freedom and an area of 0.95->1.990\n",
    "\n",
    "# t=4.76190>1.990-->We REJECT HO\n",
    "\n"
   ]
  },
  {
   "cell_type": "code",
   "execution_count": 3,
   "id": "359cb713",
   "metadata": {},
   "outputs": [],
   "source": [
    "# with python\n",
    "\n",
    "from scipy.stats import t\n",
    "import scipy.stats\n",
    "\n",
    "# formula to find t-statistic value in t-distribution table with 2 tails\n",
    "tc=scipy.stats.t.ppf(q=1-.05/2,df=99)\n"
   ]
  },
  {
   "cell_type": "code",
   "execution_count": 4,
   "id": "ed422c50",
   "metadata": {},
   "outputs": [],
   "source": [
    "# our t-value is 4.76190>1.9884---> reject H0"
   ]
  },
  {
   "cell_type": "markdown",
   "id": "78416120",
   "metadata": {},
   "source": [
    "***2.In a packing plant, a machine packs cartons with jars. It is supposed that a new machine will pack faster on the average than the machine currently used. To test that hypothesis, the times it takes each machine to pack ten cartons are recorded. The results, in seconds, are shown in the tables in the file Data/machine.txt. Assume that there is sufficient evidence to conduct the t test, does the data provide sufficient evidence to show if one machine is better than the other***"
   ]
  },
  {
   "cell_type": "code",
   "execution_count": 5,
   "id": "1d8b9877",
   "metadata": {},
   "outputs": [],
   "source": [
    "df=pd.read_excel(\"Data/Data_Machine.xlsx\")\n"
   ]
  },
  {
   "cell_type": "code",
   "execution_count": 6,
   "id": "26e5564e",
   "metadata": {},
   "outputs": [
    {
     "data": {
      "text/html": [
       "<div>\n",
       "<style scoped>\n",
       "    .dataframe tbody tr th:only-of-type {\n",
       "        vertical-align: middle;\n",
       "    }\n",
       "\n",
       "    .dataframe tbody tr th {\n",
       "        vertical-align: top;\n",
       "    }\n",
       "\n",
       "    .dataframe thead th {\n",
       "        text-align: right;\n",
       "    }\n",
       "</style>\n",
       "<table border=\"1\" class=\"dataframe\">\n",
       "  <thead>\n",
       "    <tr style=\"text-align: right;\">\n",
       "      <th></th>\n",
       "      <th>New_Machine</th>\n",
       "      <th>Old_Machine</th>\n",
       "    </tr>\n",
       "  </thead>\n",
       "  <tbody>\n",
       "    <tr>\n",
       "      <th>0</th>\n",
       "      <td>421</td>\n",
       "      <td>427</td>\n",
       "    </tr>\n",
       "    <tr>\n",
       "      <th>1</th>\n",
       "      <td>41</td>\n",
       "      <td>436</td>\n",
       "    </tr>\n",
       "    <tr>\n",
       "      <th>2</th>\n",
       "      <td>413</td>\n",
       "      <td>438</td>\n",
       "    </tr>\n",
       "    <tr>\n",
       "      <th>3</th>\n",
       "      <td>418</td>\n",
       "      <td>433</td>\n",
       "    </tr>\n",
       "    <tr>\n",
       "      <th>4</th>\n",
       "      <td>424</td>\n",
       "      <td>425</td>\n",
       "    </tr>\n",
       "    <tr>\n",
       "      <th>5</th>\n",
       "      <td>428</td>\n",
       "      <td>435</td>\n",
       "    </tr>\n",
       "    <tr>\n",
       "      <th>6</th>\n",
       "      <td>432</td>\n",
       "      <td>431</td>\n",
       "    </tr>\n",
       "    <tr>\n",
       "      <th>7</th>\n",
       "      <td>423</td>\n",
       "      <td>417</td>\n",
       "    </tr>\n",
       "    <tr>\n",
       "      <th>8</th>\n",
       "      <td>418</td>\n",
       "      <td>44</td>\n",
       "    </tr>\n",
       "    <tr>\n",
       "      <th>9</th>\n",
       "      <td>427</td>\n",
       "      <td>441</td>\n",
       "    </tr>\n",
       "  </tbody>\n",
       "</table>\n",
       "</div>"
      ],
      "text/plain": [
       "   New_Machine  Old_Machine\n",
       "0          421          427\n",
       "1           41          436\n",
       "2          413          438\n",
       "3          418          433\n",
       "4          424          425\n",
       "5          428          435\n",
       "6          432          431\n",
       "7          423          417\n",
       "8          418           44\n",
       "9          427          441"
      ]
     },
     "execution_count": 6,
     "metadata": {},
     "output_type": "execute_result"
    }
   ],
   "source": [
    "df"
   ]
  },
  {
   "cell_type": "markdown",
   "id": "358d9684",
   "metadata": {},
   "source": [
    "Ho: μ1=μ2\n",
    "Hi: μ1!=μ2\n",
    "\n",
    "t=(x̄1-x̄2)/√((σ1^2/n)+(σ2^2/n))\n",
    "\n",
    "2 tail, t-distribution with (n-1)=99 degrees of freedom and an area of 0.95->1.990\n",
    "\n"
   ]
  },
  {
   "cell_type": "code",
   "execution_count": 18,
   "id": "8a71d7ab",
   "metadata": {},
   "outputs": [],
   "source": [
    "old_machine=df[\"Old_Machine\"]"
   ]
  },
  {
   "cell_type": "code",
   "execution_count": 19,
   "id": "7bc2ed4a",
   "metadata": {},
   "outputs": [
    {
     "data": {
      "text/plain": [
       "0    427\n",
       "1    436\n",
       "2    438\n",
       "3    433\n",
       "4    425\n",
       "5    435\n",
       "6    431\n",
       "7    417\n",
       "8     44\n",
       "9    441\n",
       "Name: Old_Machine, dtype: int64"
      ]
     },
     "execution_count": 19,
     "metadata": {},
     "output_type": "execute_result"
    }
   ],
   "source": [
    "old_machine"
   ]
  },
  {
   "cell_type": "code",
   "execution_count": 16,
   "id": "18faaeda",
   "metadata": {},
   "outputs": [
    {
     "data": {
      "text/plain": [
       "392.7"
      ]
     },
     "execution_count": 16,
     "metadata": {},
     "output_type": "execute_result"
    }
   ],
   "source": [
    "\n",
    "x̄1=df[\"Old_Machine\"].mean()\n",
    "x̄1"
   ]
  },
  {
   "cell_type": "code",
   "execution_count": 17,
   "id": "41aec86e",
   "metadata": {},
   "outputs": [],
   "source": [
    "new_machine=df[\"New_Machine\"]"
   ]
  },
  {
   "cell_type": "code",
   "execution_count": 10,
   "id": "8434d8ce",
   "metadata": {},
   "outputs": [
    {
     "data": {
      "text/plain": [
       "0    421\n",
       "1     41\n",
       "2    413\n",
       "3    418\n",
       "4    424\n",
       "5    428\n",
       "6    432\n",
       "7    423\n",
       "8    418\n",
       "9    427\n",
       "Name: New_Machine, dtype: int64"
      ]
     },
     "execution_count": 10,
     "metadata": {},
     "output_type": "execute_result"
    }
   ],
   "source": [
    "new_machine"
   ]
  },
  {
   "cell_type": "code",
   "execution_count": 11,
   "id": "600e08e9",
   "metadata": {},
   "outputs": [
    {
     "data": {
      "text/plain": [
       "384.5"
      ]
     },
     "execution_count": 11,
     "metadata": {},
     "output_type": "execute_result"
    }
   ],
   "source": [
    "x̄2=df[\"New_Machine\"].mean()\n",
    "x̄2"
   ]
  },
  {
   "cell_type": "code",
   "execution_count": 13,
   "id": "db84e049",
   "metadata": {},
   "outputs": [
    {
     "data": {
      "text/plain": [
       "New_Machine    120.820574\n",
       "Old_Machine    122.720142\n",
       "dtype: float64"
      ]
     },
     "execution_count": 13,
     "metadata": {},
     "output_type": "execute_result"
    }
   ],
   "source": [
    "# In order to calculate the standar deviation for each column\n",
    "df.std(axis= 0)"
   ]
  },
  {
   "cell_type": "markdown",
   "id": "4a23c9c4",
   "metadata": {},
   "source": [
    "# T-statistic"
   ]
  },
  {
   "cell_type": "code",
   "execution_count": 14,
   "id": "52570d01",
   "metadata": {},
   "outputs": [
    {
     "data": {
      "text/plain": [
       "Ttest_indResult(statistic=0.1505719451726035, pvalue=0.8819878991379999)"
      ]
     },
     "execution_count": 14,
     "metadata": {},
     "output_type": "execute_result"
    }
   ],
   "source": [
    "# we will use the ttest_ind() function from the scipy.stats library to conduct a two sample t-test\n",
    "stats.ttest_ind(a=old_machine, b=new_machine, equal_var=True)"
   ]
  },
  {
   "cell_type": "markdown",
   "id": "cd2db3a2",
   "metadata": {},
   "source": [
    "# Intrepetation"
   ]
  },
  {
   "cell_type": "markdown",
   "id": "b08da5d2",
   "metadata": {},
   "source": [
    "The p-value of our test (0.8819) is greater than alpha = 0.05,\n",
    "we fail to reject the null hypothesis of the test. \n",
    "We do not have sufficient evidence to say that the data provides sufficient evidence to show if one machine is better than the other"
   ]
  },
  {
   "cell_type": "code",
   "execution_count": null,
   "id": "94f718ca",
   "metadata": {},
   "outputs": [],
   "source": []
  }
 ],
 "metadata": {
  "kernelspec": {
   "display_name": "Python 3",
   "language": "python",
   "name": "python3"
  },
  "language_info": {
   "codemirror_mode": {
    "name": "ipython",
    "version": 3
   },
   "file_extension": ".py",
   "mimetype": "text/x-python",
   "name": "python",
   "nbconvert_exporter": "python",
   "pygments_lexer": "ipython3",
   "version": "3.8.8"
  }
 },
 "nbformat": 4,
 "nbformat_minor": 5
}
