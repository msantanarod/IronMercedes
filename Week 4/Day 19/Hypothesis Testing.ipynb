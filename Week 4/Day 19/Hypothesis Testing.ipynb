{
 "cells": [
  {
   "cell_type": "markdown",
   "id": "ab9b5c3b",
   "metadata": {},
   "source": [
    "# Hypothesis Testing"
   ]
  },
  {
   "cell_type": "code",
   "execution_count": 5,
   "id": "36af80d3",
   "metadata": {},
   "outputs": [],
   "source": [
    "from scipy.stats import t"
   ]
  },
  {
   "cell_type": "markdown",
   "id": "ad8abcfd",
   "metadata": {},
   "source": [
    "**It is assumed that the mean systolic blood pressure is μ = 120 mm Hg. \n",
    "In the Honolulu Heart Study, a sample of n = 100 people had an average systolic blood pressure of 130.1 mm Hg \n",
    "with a standard deviation of 21.21 mm Hg. Is the group significantly different \n",
    "(with respect to systolic blood pressure!) from the regular population?**\n",
    "\n",
    "**a) Set up the hypothesis test.**\n"
   ]
  },
  {
   "cell_type": "markdown",
   "id": "cda89f83",
   "metadata": {},
   "source": [
    "main details\n",
    "population: μ=120 mmHg, no standard deviation #as we do not have the population st.deviation,\n",
    "\n",
    "                                              # we have to use t-statistics\n",
    "\n",
    "sample size=100\n",
    "sample mean=130.1mmHg, st.deviation=21.21mmHG\n"
   ]
  },
  {
   "cell_type": "markdown",
   "id": "13cb5242",
   "metadata": {},
   "source": [
    "Ho: μ=120\n",
    "Hi: μ!=120\n",
    "\n"
   ]
  },
  {
   "cell_type": "markdown",
   "id": "bccda134",
   "metadata": {},
   "source": [
    "**b)Write down all the steps followed for setting up the test.**\n"
   ]
  },
  {
   "cell_type": "markdown",
   "id": "b58b7211",
   "metadata": {},
   "source": [
    "1: We have to define H0 and Ha\n",
    "2: We need to calculate the t-statistic value\n",
    "3: we need to check the T-statistic with 99 degrees of freedom and area of 0.95\n",
    "4: We have to compare the values of t-statistic and t-value and decide if we accept H0\n",
    "\n"
   ]
  },
  {
   "cell_type": "markdown",
   "id": "66c1102b",
   "metadata": {},
   "source": [
    "**c)Calculate the test statistic by hand and also code it in Python. It should be 4.76190. \n",
    "What decision can you make based on this calculated value?**"
   ]
  },
  {
   "cell_type": "code",
   "execution_count": 8,
   "id": "68345d52",
   "metadata": {},
   "outputs": [],
   "source": [
    "# by hand\n",
    "#t=(x̄-μ)/(σ(muestra)/√n)->t=(130.1-120)/(21.21/√100)-> t=4.76190\n",
    "# 2 tail, t-distribution with (n-1)=99 degrees of freedom and an area of 0.95->1.990\n",
    "\n",
    "# t=4.76190>1.990-->We REJECT HO\n",
    "\n"
   ]
  },
  {
   "cell_type": "code",
   "execution_count": 12,
   "id": "359cb713",
   "metadata": {},
   "outputs": [
    {
     "data": {
      "text/plain": [
       "1.9842169515086827"
      ]
     },
     "execution_count": 12,
     "metadata": {},
     "output_type": "execute_result"
    }
   ],
   "source": [
    "# with python\n",
    "\n",
    "from scipy.stats import t\n",
    "import scipy.stats\n",
    "\n",
    "# formula to find t-statistic value in t-distribution table with 2 tails\n",
    "scipy.stats.t.ppf(q=1-.05/2,df=99)\n"
   ]
  },
  {
   "cell_type": "code",
   "execution_count": 13,
   "id": "ed422c50",
   "metadata": {},
   "outputs": [],
   "source": [
    "# our t-value is 4.76190>1.9884---> reject H0"
   ]
  },
  {
   "cell_type": "code",
   "execution_count": null,
   "id": "436edc86",
   "metadata": {},
   "outputs": [],
   "source": []
  }
 ],
 "metadata": {
  "kernelspec": {
   "display_name": "Python 3 (ipykernel)",
   "language": "python",
   "name": "python3"
  },
  "language_info": {
   "codemirror_mode": {
    "name": "ipython",
    "version": 3
   },
   "file_extension": ".py",
   "mimetype": "text/x-python",
   "name": "python",
   "nbconvert_exporter": "python",
   "pygments_lexer": "ipython3",
   "version": "3.9.6"
  }
 },
 "nbformat": 4,
 "nbformat_minor": 5
}
